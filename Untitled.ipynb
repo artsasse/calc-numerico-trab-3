{
 "cells": [
  {
   "cell_type": "markdown",
   "id": "e80f1922-523d-46cb-a4ef-da35e37c8032",
   "metadata": {},
   "source": [
    "# Cálculo Numérico - Trabalho 3 #\n",
    "## Arthur Mendonça Sasse - DRE 117206692 ##"
   ]
  },
  {
   "cell_type": "markdown",
   "id": "8c0959a1-bf0d-473d-9bfa-a1e736ea3a80",
   "metadata": {},
   "source": [
    "## 1) Assistir vídeo ##"
   ]
  },
  {
   "cell_type": "code",
   "execution_count": 43,
   "id": "0ca17a5f-75fa-4320-994d-7bccc7b8c394",
   "metadata": {},
   "outputs": [
    {
     "data": {
      "text/plain": [
       "bissecao (generic function with 1 method)"
      ]
     },
     "execution_count": 43,
     "metadata": {},
     "output_type": "execute_result"
    }
   ],
   "source": [
    "# Método da Bisseção\n",
    "\"\"\"\n",
    "Tenta achar um zero para a funcao dentro de um intervalo dado.\n",
    "Entrada: funcao f, extremo a, extremo b, \n",
    "            (tolerância absoluta atol), (tolerância relativa rtol),\n",
    "            (tempo maximo max_time), (quantidade maxima de iteracoes max_iter)\n",
    "Retorna: x, fx, exitflag\n",
    "\"\"\"\n",
    "\n",
    "function bissecao(f, a, b;\n",
    "                  atol = 1e-8, rtol = 1e-8,\n",
    "                  max_time = 10.0, max_iter = 1000,\n",
    "                  )\n",
    "    fa = f(a)\n",
    "    fb = f(b)\n",
    "    \n",
    "    # calcula as tolerâncias\n",
    "    # tolerância do valor da funcao\n",
    "    ϵ = atol + rtol * max(abs(fa), abs(fb))\n",
    "    println(\"Bissecao - ϵ = $(ϵ)\")\n",
    "    # tolerancia do tamanho do intervalo\n",
    "    ϵba = atol + rtol * abs(b - a)\n",
    "    println(\"Bissecao - ϵba = $(ϵ)\")\n",
    "    \n",
    "    # verifica condiçoes iniciais\n",
    "    if abs(fa) ≤ ϵ\n",
    "        return a, fa, :sucesso\n",
    "    elseif abs(fb) ≤ ϵ\n",
    "        return b, fb, :sucesso\n",
    "    elseif fa * fb ≥ 0\n",
    "        return a, fa, :falha_sinais_opostos\n",
    "    end\n",
    "    \n",
    "    # calcula o ponto médio\n",
    "    x = (a + b) / 2\n",
    "    fx = f(x)\n",
    "    \n",
    "    # define variaveis de tempo e qtd de iteraçoes\n",
    "    iter = 0\n",
    "    t0 = time()\n",
    "    Δt = time() - t0\n",
    "    \n",
    "    # condicao para o algoritmo ter resolvido o problema\n",
    "    resolvido = (abs(fx) ≤ ϵ || abs(b - a) ≤ ϵba)\n",
    "    \n",
    "    # condicao para o algoritmo pedir arrego\n",
    "    cansado = (iter ≥ max_iter || Δt ≥ max_time)\n",
    "    \n",
    "    while !(resolvido || cansado)\n",
    "        # Verifica qual seçao vamos escolher:\n",
    "        # se a e x tem sinais ≠, pega a 1ª seçao\n",
    "        if fa * fx < 0\n",
    "            b = x\n",
    "            fb = fx\n",
    "        # senao, pega a 2ª seçao\n",
    "        else\n",
    "            a = x\n",
    "            fa = fx\n",
    "        end\n",
    "        \n",
    "        # calcula o ponto médio\n",
    "        x = (a + b) / 2\n",
    "        fx = f(x)\n",
    "        \n",
    "        # calcula condicoes para o while\n",
    "        iter = iter + 1\n",
    "        Δt = time() - t0\n",
    "        resolvido = (abs(fx) ≤ ϵ || abs(b - a) ≤ ϵba)\n",
    "        cansado = (iter ≥ max_iter || Δt ≥ max_time)\n",
    "    end\n",
    "    \n",
    "    println(\"Bissecao - Iterações = $(iter)\")\n",
    "    println(\"Bissecao - Tempo = $(Δt)\")\n",
    "    \n",
    "    exitflag = :desconhecido\n",
    "    if resolvido\n",
    "        exitflag = :sucesso\n",
    "    elseif cansado\n",
    "        if iter ≥ max_iter\n",
    "            exitflag = :max_iter\n",
    "        else\n",
    "            exitflag = :max_time\n",
    "        end\n",
    "    end\n",
    "    \n",
    "    return x, fx, exitflag\n",
    "end"
   ]
  },
  {
   "cell_type": "code",
   "execution_count": 15,
   "id": "c13b0db2-4779-4baa-a54f-c5619cf27d0f",
   "metadata": {},
   "outputs": [
    {
     "data": {
      "text/plain": [
       "(0.5671432912349701, 2.2801733834398874e-9, :sucesso)"
      ]
     },
     "execution_count": 15,
     "metadata": {},
     "output_type": "execute_result"
    }
   ],
   "source": [
    "# teste 1\n",
    "f(x) = exp(x) * x - 1\n",
    "a, b = 0.0, 1.0\n",
    "bissecao(f, a, b)"
   ]
  },
  {
   "cell_type": "code",
   "execution_count": 17,
   "id": "b06fcf0f-58df-4cd0-8bcd-d92808f63b69",
   "metadata": {},
   "outputs": [
    {
     "data": {
      "text/plain": [
       "(3.50339806079864501953125, 1.5167499838903366238436476454154444581945426762104034423828125e-08, :sucesso)"
      ]
     },
     "execution_count": 17,
     "metadata": {},
     "output_type": "execute_result"
    }
   ],
   "source": [
    "# teste 2\n",
    "f(x) = x^3 - 43\n",
    "a, b = big\"3.0\", big\"4.0\"\n",
    "bissecao(f, a, b)"
   ]
  },
  {
   "cell_type": "code",
   "execution_count": 45,
   "id": "76a8c5cd-287a-452c-b312-a4322d0d4cdd",
   "metadata": {},
   "outputs": [
    {
     "data": {
      "text/plain": [
       "newton (generic function with 1 method)"
      ]
     },
     "execution_count": 45,
     "metadata": {},
     "output_type": "execute_result"
    }
   ],
   "source": [
    "# Método de Newton\n",
    "\"\"\"\n",
    "Tenta achar um zero para a funcao, a partir da funcao, da derivada da funcao e de um valor inicial para x.\n",
    "Existem chutes bons e ruins para x e nao é possivel saber de antemao se o método vai convergir ou nao.\n",
    "Entrada: funcao f, derivada da funcao fd, valor inicial x, \n",
    "            (tolerância absoluta atol), (tolerância relativa rtol),\n",
    "            (tempo maximo max_time), (quantidade maxima de iteracoes max_iter)\n",
    "Retorna: x, fx, exitflag\n",
    "\"\"\"\n",
    "\n",
    "function newton(f, fd, x;\n",
    "                  atol = 1e-8, rtol = 1e-8,\n",
    "                  max_time = 10.0, max_iter = 1000,\n",
    "                  )\n",
    "    \n",
    "    fx = f(x)\n",
    "    \n",
    "    # tolerância do valor da funcao\n",
    "    ϵ = atol + rtol * abs(fx)\n",
    "    println(\"Newton - ϵ = $(ϵ)\")\n",
    "    \n",
    "    # define variaveis de tempo e qtd de iteraçoes\n",
    "    iter = 0\n",
    "    t0 = time()\n",
    "    Δt = time() - t0\n",
    "    \n",
    "    # caso o algoritmo nao termine de nenhuma maneira esperada\n",
    "    exitflag = :desconhecido\n",
    "    \n",
    "    # condicao para o algoritmo ter resolvido o problema\n",
    "    resolvido = (abs(fx) ≤ ϵ)\n",
    "    \n",
    "    # condicao para o algoritmo pedir arrego\n",
    "    cansado = (iter ≥ max_iter || Δt ≥ max_time)\n",
    "    \n",
    "    while !(resolvido || cansado)\n",
    "        # se a derivada for muito proxima de zero, o método vai divergir\n",
    "        fdx = fd(x)\n",
    "        if abs(fdx) ≤ ϵ\n",
    "            exitflag = :derivada_nula\n",
    "            break\n",
    "        end\n",
    "        \n",
    "        # calcula os novos valores de x e f(x)\n",
    "        x = x - fx / fdx \n",
    "        fx = f(x)\n",
    "        \n",
    "        # calcula condicoes para o while\n",
    "        iter = iter + 1\n",
    "        Δt = time() - t0\n",
    "        resolvido = (abs(fx) ≤ ϵ)\n",
    "        cansado = (iter ≥ max_iter || Δt ≥ max_time)\n",
    "    end\n",
    "    \n",
    "    println(\"Newton - Iterações = $(iter)\")\n",
    "    println(\"Newton - Tempo = $(Δt)\")\n",
    "    \n",
    "    if resolvido\n",
    "        exitflag = :sucesso\n",
    "    elseif cansado\n",
    "        if iter ≥ max_iter\n",
    "            exitflag = :max_iter\n",
    "        else\n",
    "            exitflag = :max_time\n",
    "        end\n",
    "    end\n",
    "    \n",
    "    return x, fx, exitflag\n",
    "end"
   ]
  },
  {
   "cell_type": "code",
   "execution_count": 169,
   "id": "59db8efb-5c6f-400f-bff5-ba952cb3934d",
   "metadata": {},
   "outputs": [
    {
     "name": "stdout",
     "output_type": "stream",
     "text": [
      "ϵ = 1.000000000000000019991899802602883619647760788534159420182603005936595699255543e-100\n",
      "Iterações = 0\n",
      "Tempo = 0.0\n"
     ]
    },
    {
     "data": {
      "text/plain": [
       "(0, -43, :derivada_nula)"
      ]
     },
     "execution_count": 169,
     "metadata": {},
     "output_type": "execute_result"
    }
   ],
   "source": [
    "# exemplo: raiz cubica de 43\n",
    "f(x) = x^3 - 43\n",
    "fder(x) = 3x^2\n",
    "newton(f, fder, big\"0\", atol=1e-100, rtol=0.0)"
   ]
  },
  {
   "cell_type": "code",
   "execution_count": 106,
   "id": "59b497ae-b651-4926-b1e4-2c1127853c8f",
   "metadata": {},
   "outputs": [
    {
     "name": "stdout",
     "output_type": "stream",
     "text": [
      "ϵ = 2.0e-8\n",
      "Iterações = 4\n",
      "Tempo = 9.5367431640625e-7\n"
     ]
    },
    {
     "data": {
      "text/plain": [
       "(1.4142135623746899, 4.510614104447086e-12, :sucesso)"
      ]
     },
     "execution_count": 106,
     "metadata": {},
     "output_type": "execute_result"
    }
   ],
   "source": [
    "# exemplo: raiz quadrada de 2\n",
    "f(x) = x^2 - 2\n",
    "fder(x) = 2x\n",
    "newton(f, fder, 1.0)"
   ]
  },
  {
   "cell_type": "code",
   "execution_count": 108,
   "id": "52e86a1d-c83b-41d1-a643-b67a96d5e430",
   "metadata": {},
   "outputs": [
    {
     "name": "stdout",
     "output_type": "stream",
     "text": [
      "ϵ = 1.000000000000000019991899802602883619647760788534159420182603005936595699255543e-100\n",
      "Iterações = 1000\n",
      "Tempo = 0.0006499290466308594\n"
     ]
    },
    {
     "data": {
      "text/plain": [
       "(1.414213562373095048801688724209698078569671875376948073176679737990732478462102, -1.727233711018888925077270372560079914223200072887256277004740694033718360632485e-77, :max_iter)"
      ]
     },
     "execution_count": 108,
     "metadata": {},
     "output_type": "execute_result"
    }
   ],
   "source": [
    "# exemplo: raiz quadrada de 2 com big float\n",
    "f(x) = x^2 - 2\n",
    "fder(x) = 2x\n",
    "newton(f, fder, big\"1\", atol=1e-100, rtol=0.0)"
   ]
  },
  {
   "cell_type": "code",
   "execution_count": 162,
   "id": "82e9e783-6b30-4ae2-bea0-53620363cacd",
   "metadata": {},
   "outputs": [
    {
     "name": "stdout",
     "output_type": "stream",
     "text": [
      "ϵ = 1.0e-100\n",
      "Iterações = 10000\n",
      "Tempo = 0.0006799697875976562\n"
     ]
    },
    {
     "data": {
      "text/plain": [
       "(-9.579735114686321e-6, -23.111721232375487, :max_iter)"
      ]
     },
     "execution_count": 162,
     "metadata": {},
     "output_type": "execute_result"
    }
   ],
   "source": [
    "# log|x|\n",
    "f(x) = log(abs(x))\n",
    "fder(x) = 1/x\n",
    "newton(f, fder, 8.0, atol=1e-100, rtol=0.0)"
   ]
  },
  {
   "cell_type": "code",
   "execution_count": 175,
   "id": "ccfaafbe-550c-42ee-a717-631f86e774d1",
   "metadata": {},
   "outputs": [
    {
     "name": "stdout",
     "output_type": "stream",
     "text": [
      "ϵ = 2.0e-8\n",
      "Iterações = 1001\n",
      "Tempo = 4.601478576660156e-5\n"
     ]
    },
    {
     "data": {
      "text/plain": [
       "(2.0, 1.0, :max_iter)"
      ]
     },
     "execution_count": 175,
     "metadata": {},
     "output_type": "execute_result"
    }
   ],
   "source": [
    "# Polinômio que alterna entre 1 e 2\n",
    "f(x) = x^2 - 3x + 3\n",
    "fder(x) = 2x - 3\n",
    "newton(f, fder, 1.0)"
   ]
  },
  {
   "cell_type": "markdown",
   "id": "a3761af5-e0d3-4e05-b4b1-04ca6319b79b",
   "metadata": {},
   "source": [
    "## 2) LISTA ##"
   ]
  },
  {
   "cell_type": "markdown",
   "id": "835f78cf-829b-46a3-9f16-969a9ed3c866",
   "metadata": {},
   "source": [
    "### Questão 1 ###"
   ]
  },
  {
   "cell_type": "markdown",
   "id": "0bc2f77b-0f4f-43f9-867a-b36dbd96bc37",
   "metadata": {},
   "source": [
    "#### a) ####\n",
    "Basta escolher uma função que não tenha zero, como:\n",
    "* f(x) = cos(x) + 10"
   ]
  },
  {
   "cell_type": "markdown",
   "id": "9dd1caf6-a625-4606-a186-4399e376df64",
   "metadata": {},
   "source": [
    "#### b) ####\n",
    "<center>\n",
    "    <figure>\n",
    "        <img src=\"Q2.1.jpeg\" width=\"20\" align=\"center\">\n",
    "    </figure>\n",
    "</center>"
   ]
  },
  {
   "cell_type": "markdown",
   "id": "d00af22b-f471-44f3-ac55-38666a85a415",
   "metadata": {},
   "source": [
    "#### c) ####\n",
    "<center>\n",
    "    <figure>\n",
    "        <img src=\"Q2.1.jpeg\" width=\"20\" align=\"center\">\n",
    "    </figure>\n",
    "</center>"
   ]
  },
  {
   "cell_type": "markdown",
   "id": "3d851539-9440-4b69-a215-ff185646eeb1",
   "metadata": {},
   "source": [
    "### Questão 2 ###"
   ]
  },
  {
   "cell_type": "markdown",
   "id": "22d6a760-7cd5-4ec2-a276-1cec2c37e96e",
   "metadata": {},
   "source": [
    "#### a) ####\n",
    "<center>\n",
    "    <figure>\n",
    "        <img src=\"Q2a.jpeg\" width=\"500\" align=\"center\">\n",
    "    </figure>\n",
    "</center>"
   ]
  },
  {
   "cell_type": "markdown",
   "id": "60196d00-fd0d-495c-8f67-d00958e7ab7d",
   "metadata": {},
   "source": [
    "#### b) ####\n",
    "Verdadeiro.\n",
    "<center>\n",
    "    <figure>\n",
    "        <img src=\"Q2b.jpeg\" width=\"500\" align=\"center\">\n",
    "    </figure>\n",
    "</center>"
   ]
  },
  {
   "cell_type": "markdown",
   "id": "36ea24ba-beb9-4185-be82-840a101ad381",
   "metadata": {},
   "source": [
    "#### c) ####\n",
    "Fazer codigo do ponto fixo\n",
    "<center>\n",
    "    <figure>\n",
    "        <img src=\"Q2.1.jpeg\" width=\"20\" align=\"center\">\n",
    "    </figure>\n",
    "</center>"
   ]
  },
  {
   "cell_type": "code",
   "execution_count": 8,
   "id": "7241e4b3-1aa1-4386-9f9d-6ffd91072b53",
   "metadata": {},
   "outputs": [
    {
     "data": {
      "text/plain": [
       "ponto_fixo (generic function with 1 method)"
      ]
     },
     "execution_count": 8,
     "metadata": {},
     "output_type": "execute_result"
    }
   ],
   "source": [
    "# Método de Ponto Fixo\n",
    "\"\"\"\n",
    "Tenta achar o ponto fixo de uma iteracao.\n",
    "Entrada: funcao g(x), valor inicial x, \n",
    "            (tolerância absoluta atol), (tolerância relativa rtol),\n",
    "            (tempo maximo max_time), (quantidade maxima de iteracoes max_iter)\n",
    "Retorna: x, g(x), exitflag\n",
    "\"\"\"\n",
    "\n",
    "function ponto_fixo(g, x;\n",
    "                  atol = 1e-8, rtol = 1e-8,\n",
    "                  max_time = 10.0, max_iter = 1000,\n",
    "                  )\n",
    "    \n",
    "    gx = g(x)\n",
    "    \n",
    "    # tolerância do valor da funcao\n",
    "    ϵ = atol + rtol * abs(gx)\n",
    "    println(\"ϵ = $(ϵ)\")\n",
    "    \n",
    "    # define variaveis de tempo e qtd de iteraçoes\n",
    "    iter = 0\n",
    "    t0 = time()\n",
    "    Δt = time() - t0\n",
    "    \n",
    "    # caso o algoritmo nao termine de nenhuma maneira esperada\n",
    "    exitflag = :desconhecido\n",
    "    \n",
    "    # condicao para o algoritmo ter resolvido o problema\n",
    "    resolvido = (abs(gx - x) ≤ ϵ)\n",
    "    \n",
    "    # condicao para o algoritmo pedir arrego\n",
    "    cansado = (iter ≥ max_iter || Δt ≥ max_time)\n",
    "    \n",
    "    while !(resolvido || cansado)\n",
    "        # calcula os novos valores de x e g(x)\n",
    "        x = g(x) \n",
    "        gx = g(x)\n",
    "        \n",
    "        # calcula condicoes para o while\n",
    "        iter = iter + 1\n",
    "        Δt = time() - t0\n",
    "        resolvido = (abs(gx - x) ≤ ϵ)\n",
    "        cansado = (iter ≥ max_iter || Δt ≥ max_time)\n",
    "    end\n",
    "    \n",
    "    println(\"Iterações = $(iter)\")\n",
    "    println(\"Tempo = $(Δt)\")\n",
    "    \n",
    "    if resolvido\n",
    "        exitflag = :sucesso\n",
    "    elseif cansado\n",
    "        if iter ≥ max_iter\n",
    "            exitflag = :max_iter\n",
    "        else\n",
    "            exitflag = :max_time\n",
    "        end\n",
    "    end\n",
    "    \n",
    "    return x, gx, exitflag\n",
    "end"
   ]
  },
  {
   "cell_type": "code",
   "execution_count": 9,
   "id": "035a811e-6203-4b62-bab7-bc7d5d2adba6",
   "metadata": {},
   "outputs": [
    {
     "name": "stdout",
     "output_type": "stream",
     "text": [
      "ϵ = 0.001\n",
      "Iterações = 5\n",
      "Tempo = 9.5367431640625e-7\n"
     ]
    },
    {
     "data": {
      "text/plain": [
       "(1.398060666095151, 1.3973691209422492, :sucesso)"
      ]
     },
     "execution_count": 9,
     "metadata": {},
     "output_type": "execute_result"
    }
   ],
   "source": [
    "g(x) = 1.982ℯ^(-x/4)\n",
    "x = 1.3\n",
    "ponto_fixo(g, x, atol=1e-3, rtol=0.0)"
   ]
  },
  {
   "cell_type": "markdown",
   "id": "3b0f4537-bcdc-41df-af56-0ade3d77a4a2",
   "metadata": {},
   "source": [
    "#### d) ####\n",
    "Usar nosso Método de Newton pra calcular:"
   ]
  },
  {
   "cell_type": "code",
   "execution_count": 4,
   "id": "b0dcfa98-dfc6-408a-9981-096b78c4f1b8",
   "metadata": {},
   "outputs": [
    {
     "name": "stdout",
     "output_type": "stream",
     "text": [
      "ϵ = 0.001\n",
      "Iterações = 1\n",
      "Tempo = 9.5367431640625e-7\n"
     ]
    },
    {
     "data": {
      "text/plain": [
       "(1.39723712705395, -0.0004197205130624937, :sucesso)"
      ]
     },
     "execution_count": 4,
     "metadata": {},
     "output_type": "execute_result"
    }
   ],
   "source": [
    "f(x) = x - 1.982ℯ^(-x/4)\n",
    "fder(x) = 1 + 0.4955ℯ^(-x/4)\n",
    "newton(f, fder, 1.3, atol=1e-3, rtol=0.0)"
   ]
  },
  {
   "cell_type": "markdown",
   "id": "a6f90bfe-58ab-4865-b1fd-6d183c7dcc3f",
   "metadata": {},
   "source": [
    "### Questão 3 ###\n",
    "<center>\n",
    "    <figure>\n",
    "        <img src=\"Q3.jpeg\" width=\"500\" align=\"center\">\n",
    "    </figure>\n",
    "</center>"
   ]
  },
  {
   "cell_type": "markdown",
   "id": "e5ad046c-5816-463c-a387-6c460aac63b4",
   "metadata": {},
   "source": [
    "### Questão 4 ###\n",
    "<center>\n",
    "    <figure>\n",
    "        <img src=\"Q4.jpeg\" width=\"500\" align=\"center\">\n",
    "    </figure>\n",
    "</center>"
   ]
  },
  {
   "cell_type": "markdown",
   "id": "2be34a62-12e6-4c41-84a0-33fc9e316d66",
   "metadata": {},
   "source": [
    "### Questão 5 (Desafio) ###\n",
    "<center>\n",
    "    <figure>\n",
    "        <img src=\"Q2.1.jpeg\" width=\"20\" align=\"center\">\n",
    "    </figure>\n",
    "</center>"
   ]
  },
  {
   "cell_type": "markdown",
   "id": "b39dd582-2934-4ee3-a4e9-7f8979d24ad2",
   "metadata": {},
   "source": [
    "## 3) ##"
   ]
  },
  {
   "cell_type": "code",
   "execution_count": 41,
   "id": "75ab4598-11e7-4422-b7b9-086b3c0a62a6",
   "metadata": {},
   "outputs": [
    {
     "data": {
      "text/plain": [
       "raiz_poli_grau_5 (generic function with 3 methods)"
      ]
     },
     "execution_count": 41,
     "metadata": {},
     "output_type": "execute_result"
    }
   ],
   "source": [
    "# Biblioteca usada pelo Abel para encontrar derivadas\n",
    "using ForwardDiff\n",
    "\n",
    "function raiz_poli_grau_5(f, a = -100, b = 100;\n",
    "                        atol = 1e-8, rtol = 1e-8, \n",
    "                        max_time = 10.0, max_iter = 1000\n",
    "                        )\n",
    "    \n",
    "    fa = f(a)\n",
    "    fb = f(b)\n",
    "    \n",
    "    # tolerância do valor da funcao\n",
    "    ϵ  = atol + rtol * max(abs(fa), abs(fb))\n",
    "    \n",
    "    # define variaveis de tempo e qtd de iteraçoes\n",
    "    iter = 0\n",
    "    t0 = time()\n",
    "    Δt = time() - t0\n",
    "    \n",
    "    # funcao para calcular a derivada\n",
    "    fder(x) = ForwardDiff.derivative(f, x)\n",
    "    \n",
    "    # caso o algoritmo nao termine de nenhuma maneira esperada\n",
    "    exitflag = :desconhecido\n",
    "    \n",
    "    # faz um calculo preliminar com o método da bissecao\n",
    "    x, fx, status = bissecao(f, a, b, atol=atol, rtol=rtol, max_time=max_time, max_iter=max_iter)\n",
    "    \n",
    "    # verifica se houve erro no intervalo passado\n",
    "    if status == :falha_sinais_opostos\n",
    "        return status\n",
    "    end\n",
    "    \n",
    "    # condicao para o algoritmo ter resolvido o problema\n",
    "    resolvido = (abs(fx) ≤ ϵ)\n",
    "    \n",
    "    # condicao para o algoritmo pedir arrego\n",
    "    cansado = (iter ≥ max_iter || Δt ≥ max_time)\n",
    "        \n",
    "    x, fx, status = newton(f, fder, x, atol=atol, rtol=rtol)\n",
    "    \n",
    "    # verifica se o x encontrado esta no intervalo\n",
    "    if (x < a || x > b)\n",
    "        exitflag = :sem_raizes_no_intervalo\n",
    "    else\n",
    "        exitflag = status\n",
    "    end\n",
    "    \n",
    "    # retorna o resultado final\n",
    "    return x, fx, exitflag\n",
    "end"
   ]
  },
  {
   "cell_type": "code",
   "execution_count": 47,
   "id": "c0e02d20-3269-4248-b23d-48e30399ca0f",
   "metadata": {},
   "outputs": [
    {
     "name": "stdout",
     "output_type": "stream",
     "text": [
      "Bissecao - ϵ = 104.12019004999999\n",
      "Bissecao - ϵba = 104.12019004999999\n",
      "Bissecao - Iterações = 0\n",
      "Bissecao - Tempo = 0.0\n",
      "Newton - ϵ = 5.0e-8\n",
      "Newton - Iterações = 79\n",
      "Newton - Tempo = 1.4781951904296875e-5\n"
     ]
    },
    {
     "data": {
      "text/plain": [
       "(1.3651594443039385, 2.1971402475173818e-10, :sucesso)"
      ]
     },
     "execution_count": 47,
     "metadata": {},
     "output_type": "execute_result"
    }
   ],
   "source": [
    "f(x) = x^5 - 4x^4 + 12x^3 - 2x^2 - 10x -4\n",
    "raiz_poli_grau_5(f)"
   ]
  },
  {
   "cell_type": "markdown",
   "id": "58f1d214-fcf9-47b7-a109-4b3db18e4351",
   "metadata": {},
   "source": [
    "## 4) ##"
   ]
  },
  {
   "cell_type": "markdown",
   "id": "1822c694-f83c-40e0-8546-be1bd169ae13",
   "metadata": {},
   "source": [
    "## 5) ##"
   ]
  },
  {
   "cell_type": "markdown",
   "id": "f1446aa4-82de-4d36-b624-162d25416fe3",
   "metadata": {},
   "source": [
    "## 6) Desafio ##"
   ]
  }
 ],
 "metadata": {
  "kernelspec": {
   "display_name": "Julia 1.6.0",
   "language": "julia",
   "name": "julia-1.6"
  },
  "language_info": {
   "file_extension": ".jl",
   "mimetype": "application/julia",
   "name": "julia",
   "version": "1.6.0"
  }
 },
 "nbformat": 4,
 "nbformat_minor": 5
}
